{
 "cells": [
  {
   "cell_type": "code",
   "execution_count": 4,
   "id": "fdbd45f8-3025-4b13-95a1-9768c3b4d083",
   "metadata": {},
   "outputs": [],
   "source": [
    "from pymongo import MongoClient\n",
    "\n",
    "# Conectar a MongoDB\n",
    "client = MongoClient('localhost', 27017)\n",
    "\n",
    "# Nombre de la base de datos\n",
    "database_name = 'videojuegos'\n",
    "\n",
    "# Seleccionar la base de datos\n",
    "db = client[database_name]\n",
    "\n",
    "# Crear una Colección para Videojuegos\n",
    "collection_name = 'videojuegos'\n",
    "videojuegos_collection = db[collection_name]\n",
    "\n",
    "# Crear campos en la base de datos\n",
    "videojuego_one = {\n",
    "    'titulo': 'Super Mario Bros',\n",
    "    'plataforma': 'Nintendo Entertainment System',\n",
    "    'genero': 'plataformas',\n",
    "    'lanzamiento': 1985,\n",
    "    'desarrolladora': 'Nintendo',\n",
    "    'precio': 19.99\n",
    "}\n",
    "\n",
    "inserted_one = videojuegos_collection.insert_one(videojuego_one)\n",
    "\n",
    "# Insertar varios videojuegos\n",
    "videojuegos_many = [\n",
    "    {\n",
    "        'titulo': 'Sonic the Hedgehog',\n",
    "        'plataforma': 'Sega Genesis',\n",
    "        'genero': 'Plataformas',\n",
    "        'lanzamiento': 1991,\n",
    "        'desarrolladora': 'Sega',\n",
    "        'precio': 49.99\n",
    "    },\n",
    "    {\n",
    "        'titulo': 'Phoenix Wright: Ace Attorney',\n",
    "        'plataforma': 'Nintendo DS',\n",
    "        'genero': 'Novela visual',\n",
    "        'lanzamiento': 2001,\n",
    "        'desarrolladora': 'Capcom',\n",
    "        'precio': 39.99\n",
    "    }\n",
    "]\n",
    "\n",
    "inserted_many = videojuegos_collection.insert_many(videojuegos_many)\n",
    "\n",
    "# Cierra la conexión cuando hayas terminado\n",
    "client.close()"
   ]
  }
 ],
 "metadata": {
  "kernelspec": {
   "display_name": "Python 3 (ipykernel)",
   "language": "python",
   "name": "python3"
  },
  "language_info": {
   "codemirror_mode": {
    "name": "ipython",
    "version": 3
   },
   "file_extension": ".py",
   "mimetype": "text/x-python",
   "name": "python",
   "nbconvert_exporter": "python",
   "pygments_lexer": "ipython3",
   "version": "3.11.4"
  }
 },
 "nbformat": 4,
 "nbformat_minor": 5
}
