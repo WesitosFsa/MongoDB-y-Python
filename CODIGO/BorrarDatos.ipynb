{
 "cells": [
  {
   "cell_type": "code",
   "execution_count": 22,
   "id": "bf9f1034-5fe0-4508-a95c-55a2c160b735",
   "metadata": {},
   "outputs": [
    {
     "data": {
      "text/html": [
       "<div>\n",
       "<style scoped>\n",
       "    .dataframe tbody tr th:only-of-type {\n",
       "        vertical-align: middle;\n",
       "    }\n",
       "\n",
       "    .dataframe tbody tr th {\n",
       "        vertical-align: top;\n",
       "    }\n",
       "\n",
       "    .dataframe thead th {\n",
       "        text-align: right;\n",
       "    }\n",
       "</style>\n",
       "<table border=\"1\" class=\"dataframe\">\n",
       "  <thead>\n",
       "    <tr style=\"text-align: right;\">\n",
       "      <th></th>\n",
       "      <th>_id</th>\n",
       "      <th>Codigo_producto</th>\n",
       "      <th>Nombre_Producto</th>\n",
       "      <th>Precio_producto</th>\n",
       "      <th>Stock_producto</th>\n",
       "    </tr>\n",
       "  </thead>\n",
       "  <tbody>\n",
       "    <tr>\n",
       "      <th>0</th>\n",
       "      <td>6585fceb6eb9d49325571d79</td>\n",
       "      <td>ppl123</td>\n",
       "      <td>papel</td>\n",
       "      <td>0.3</td>\n",
       "      <td>300</td>\n",
       "    </tr>\n",
       "    <tr>\n",
       "      <th>1</th>\n",
       "      <td>6585fcfc6eb9d49325571d7b</td>\n",
       "      <td>mad123</td>\n",
       "      <td>madera</td>\n",
       "      <td>0.7</td>\n",
       "      <td>240</td>\n",
       "    </tr>\n",
       "    <tr>\n",
       "      <th>2</th>\n",
       "      <td>6585fd146eb9d49325571d7d</td>\n",
       "      <td>vid123</td>\n",
       "      <td>vidrio</td>\n",
       "      <td>0.5</td>\n",
       "      <td>150</td>\n",
       "    </tr>\n",
       "    <tr>\n",
       "      <th>3</th>\n",
       "      <td>6585fd2b6eb9d49325571d7f</td>\n",
       "      <td>pls123</td>\n",
       "      <td>plastico</td>\n",
       "      <td>0.9</td>\n",
       "      <td>250</td>\n",
       "    </tr>\n",
       "    <tr>\n",
       "      <th>4</th>\n",
       "      <td>6585fd476eb9d49325571d81</td>\n",
       "      <td>crt123</td>\n",
       "      <td>carton</td>\n",
       "      <td>0.2</td>\n",
       "      <td>750</td>\n",
       "    </tr>\n",
       "  </tbody>\n",
       "</table>\n",
       "</div>"
      ],
      "text/plain": [
       "                        _id Codigo_producto Nombre_Producto Precio_producto  \\\n",
       "0  6585fceb6eb9d49325571d79          ppl123           papel             0.3   \n",
       "1  6585fcfc6eb9d49325571d7b          mad123          madera             0.7   \n",
       "2  6585fd146eb9d49325571d7d          vid123          vidrio             0.5   \n",
       "3  6585fd2b6eb9d49325571d7f          pls123        plastico             0.9   \n",
       "4  6585fd476eb9d49325571d81          crt123          carton             0.2   \n",
       "\n",
       "  Stock_producto  \n",
       "0            300  \n",
       "1            240  \n",
       "2            150  \n",
       "3            250  \n",
       "4            750  "
      ]
     },
     "execution_count": 22,
     "metadata": {},
     "output_type": "execute_result"
    }
   ],
   "source": [
    "import pymongo\n",
    "import pandas as pd\n",
    "from pymongo import MongoClient\n",
    "\n",
    "cliente = MongoClient ('127.0.0.1', 27017)\n",
    "\n",
    "db = cliente.Prueba\n",
    "collection = db.productos\n",
    "\n",
    "data = pd.DataFrame(list(collection.find()))\n",
    "\n",
    "data"
   ]
  },
  {
   "cell_type": "code",
   "execution_count": 21,
   "id": "1430ca44-1094-4cb4-a3cc-a80cbb350e34",
   "metadata": {},
   "outputs": [
    {
     "name": "stdout",
     "output_type": "stream",
     "text": [
      "\n",
      "Menú:\n",
      "1. Buscar y eliminar código\n",
      "2. Salir\n"
     ]
    },
    {
     "name": "stdin",
     "output_type": "stream",
     "text": [
      "Ingrese su elección (1 o 2):  1\n",
      "Ingrese el código del producto a buscar y eliminar:  wer123\n"
     ]
    },
    {
     "name": "stdout",
     "output_type": "stream",
     "text": [
      "Se ha eliminado el código wer123\n",
      "\n",
      "Menú:\n",
      "1. Buscar y eliminar código\n",
      "2. Salir\n"
     ]
    },
    {
     "name": "stdin",
     "output_type": "stream",
     "text": [
      "Ingrese su elección (1 o 2):  1\n",
      "Ingrese el código del producto a buscar y eliminar:  wer123\n"
     ]
    },
    {
     "name": "stdout",
     "output_type": "stream",
     "text": [
      "No se ha encontrado el código wer123\n",
      "\n",
      "Menú:\n",
      "1. Buscar y eliminar código\n",
      "2. Salir\n"
     ]
    },
    {
     "name": "stdin",
     "output_type": "stream",
     "text": [
      "Ingrese su elección (1 o 2):  2\n"
     ]
    },
    {
     "name": "stdout",
     "output_type": "stream",
     "text": [
      "\n",
      "Información eliminada:\n",
      "{'_id': ObjectId('6586066a6eb9d49325571d8a'), 'Codigo_producto': 'wer123', 'Nombre_Producto': 'wer123', 'Precio_producto': 'wer123', 'Stock_producto': 'wer123'}\n"
     ]
    }
   ],
   "source": [
    "db = cliente.Prueba\n",
    "coleccion = db.productos\n",
    "\n",
    "informacion_eliminada = []  # Lista para almacenar información eliminada\n",
    "\n",
    "def buscar_y_eliminar_codigo():\n",
    "    Codigo_producto = input(\"Ingrese el código del producto a buscar y eliminar: \")\n",
    "\n",
    "    # Aqui busco el campo llamada Codigo_producto como referencia para eliminar toda la tupla\n",
    "    documento = coleccion.find_one({\"Codigo_producto\": Codigo_producto})\n",
    "\n",
    "    if documento:\n",
    "       \n",
    "        informacion_eliminada.append(documento)   # Se guarda la informacion en la lista \n",
    "        \n",
    "        coleccion.delete_one({\"Codigo_producto\": Codigo_producto})  # Eliminar la tupla de la db \n",
    "        \n",
    "        print(f\"Se ha eliminado el código {Codigo_producto}\")\n",
    "    else:\n",
    "        print(f\"No se ha encontrado el código {Codigo_producto}\")\n",
    "\n",
    "while True:\n",
    "    print(\"\\nMenú:\")\n",
    "    print(\"1. Buscar y eliminar código\")\n",
    "    print(\"2. Salir\")\n",
    "\n",
    "    opcion = input(\"Ingrese su elección (1 o 2): \")\n",
    "\n",
    "    if opcion == \"1\":\n",
    "        buscar_y_eliminar_codigo()\n",
    "    elif opcion == \"2\":\n",
    "        \n",
    "        print(\"\\nInformación eliminada:\")\n",
    "        for info in informacion_eliminada:\n",
    "            print(info)\n",
    "        break\n",
    "    else:\n",
    "        print(\"Opción no válida. Por favor, ingrese 1 o 2.\")"
   ]
  },
  {
   "cell_type": "code",
   "execution_count": 19,
   "id": "1b29c291-ebe7-4c75-a4c0-41cdade35a81",
   "metadata": {},
   "outputs": [],
   "source": [
    "informacion_eliminada.clear()"
   ]
  },
  {
   "cell_type": "code",
   "execution_count": 20,
   "id": "13560fe1-9383-4a74-aeae-f87b2e731669",
   "metadata": {},
   "outputs": [
    {
     "data": {
      "text/plain": [
       "[]"
      ]
     },
     "execution_count": 20,
     "metadata": {},
     "output_type": "execute_result"
    }
   ],
   "source": [
    "informacion_eliminada"
   ]
  },
  {
   "cell_type": "code",
   "execution_count": null,
   "id": "a99a7e75-21e3-4bc4-9ddb-01ec8d22e9a5",
   "metadata": {},
   "outputs": [],
   "source": []
  }
 ],
 "metadata": {
  "kernelspec": {
   "display_name": "Python 3 (ipykernel)",
   "language": "python",
   "name": "python3"
  },
  "language_info": {
   "codemirror_mode": {
    "name": "ipython",
    "version": 3
   },
   "file_extension": ".py",
   "mimetype": "text/x-python",
   "name": "python",
   "nbconvert_exporter": "python",
   "pygments_lexer": "ipython3",
   "version": "3.12.0"
  }
 },
 "nbformat": 4,
 "nbformat_minor": 5
}
